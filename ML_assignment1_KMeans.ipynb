{
 "cells": [
  {
   "cell_type": "code",
   "execution_count": null,
   "id": "c86ecec6",
   "metadata": {},
   "outputs": [],
   "source": [
    "import pandas as pd\n",
    "dataframe = pd.read_csv('house_rental_data.csv')\n",
    "dataframe"
   ]
  },
  {
   "cell_type": "code",
   "execution_count": 2,
   "id": "9093c1f4",
   "metadata": {},
   "outputs": [],
   "source": [
    "dataframe = dataframe.drop(labels=['Price'],axis=1)\n",
    "dataframe = dataframe.iloc[:,1:]"
   ]
  },
  {
   "cell_type": "code",
   "execution_count": 3,
   "id": "8e77cfd9",
   "metadata": {
    "scrolled": true
   },
   "outputs": [
    {
     "data": {
      "text/html": [
       "<div>\n",
       "<style scoped>\n",
       "    .dataframe tbody tr th:only-of-type {\n",
       "        vertical-align: middle;\n",
       "    }\n",
       "\n",
       "    .dataframe tbody tr th {\n",
       "        vertical-align: top;\n",
       "    }\n",
       "\n",
       "    .dataframe thead th {\n",
       "        text-align: right;\n",
       "    }\n",
       "</style>\n",
       "<table border=\"1\" class=\"dataframe\">\n",
       "  <thead>\n",
       "    <tr style=\"text-align: right;\">\n",
       "      <th></th>\n",
       "      <th>Sqft</th>\n",
       "      <th>Floor</th>\n",
       "      <th>TotalFloor</th>\n",
       "      <th>Bedroom</th>\n",
       "      <th>Living.Room</th>\n",
       "      <th>Bathroom</th>\n",
       "    </tr>\n",
       "  </thead>\n",
       "  <tbody>\n",
       "    <tr>\n",
       "      <th>0</th>\n",
       "      <td>1177.698</td>\n",
       "      <td>2</td>\n",
       "      <td>7</td>\n",
       "      <td>2</td>\n",
       "      <td>2</td>\n",
       "      <td>2</td>\n",
       "    </tr>\n",
       "    <tr>\n",
       "      <th>1</th>\n",
       "      <td>2134.800</td>\n",
       "      <td>5</td>\n",
       "      <td>7</td>\n",
       "      <td>4</td>\n",
       "      <td>2</td>\n",
       "      <td>2</td>\n",
       "    </tr>\n",
       "    <tr>\n",
       "      <th>2</th>\n",
       "      <td>1138.560</td>\n",
       "      <td>5</td>\n",
       "      <td>7</td>\n",
       "      <td>2</td>\n",
       "      <td>2</td>\n",
       "      <td>1</td>\n",
       "    </tr>\n",
       "    <tr>\n",
       "      <th>3</th>\n",
       "      <td>1458.780</td>\n",
       "      <td>2</td>\n",
       "      <td>7</td>\n",
       "      <td>3</td>\n",
       "      <td>2</td>\n",
       "      <td>2</td>\n",
       "    </tr>\n",
       "    <tr>\n",
       "      <th>4</th>\n",
       "      <td>967.776</td>\n",
       "      <td>11</td>\n",
       "      <td>14</td>\n",
       "      <td>3</td>\n",
       "      <td>2</td>\n",
       "      <td>2</td>\n",
       "    </tr>\n",
       "    <tr>\n",
       "      <th>...</th>\n",
       "      <td>...</td>\n",
       "      <td>...</td>\n",
       "      <td>...</td>\n",
       "      <td>...</td>\n",
       "      <td>...</td>\n",
       "      <td>...</td>\n",
       "    </tr>\n",
       "    <tr>\n",
       "      <th>639</th>\n",
       "      <td>2846.400</td>\n",
       "      <td>5</td>\n",
       "      <td>12</td>\n",
       "      <td>4</td>\n",
       "      <td>2</td>\n",
       "      <td>2</td>\n",
       "    </tr>\n",
       "    <tr>\n",
       "      <th>640</th>\n",
       "      <td>1359.156</td>\n",
       "      <td>7</td>\n",
       "      <td>15</td>\n",
       "      <td>3</td>\n",
       "      <td>2</td>\n",
       "      <td>2</td>\n",
       "    </tr>\n",
       "    <tr>\n",
       "      <th>641</th>\n",
       "      <td>377.148</td>\n",
       "      <td>4</td>\n",
       "      <td>10</td>\n",
       "      <td>1</td>\n",
       "      <td>1</td>\n",
       "      <td>1</td>\n",
       "    </tr>\n",
       "    <tr>\n",
       "      <th>642</th>\n",
       "      <td>740.064</td>\n",
       "      <td>13</td>\n",
       "      <td>14</td>\n",
       "      <td>1</td>\n",
       "      <td>1</td>\n",
       "      <td>1</td>\n",
       "    </tr>\n",
       "    <tr>\n",
       "      <th>644</th>\n",
       "      <td>1376.946</td>\n",
       "      <td>6</td>\n",
       "      <td>7</td>\n",
       "      <td>3</td>\n",
       "      <td>2</td>\n",
       "      <td>1</td>\n",
       "    </tr>\n",
       "  </tbody>\n",
       "</table>\n",
       "<p>550 rows × 6 columns</p>\n",
       "</div>"
      ],
      "text/plain": [
       "         Sqft  Floor  TotalFloor  Bedroom  Living.Room  Bathroom\n",
       "0    1177.698      2           7        2            2         2\n",
       "1    2134.800      5           7        4            2         2\n",
       "2    1138.560      5           7        2            2         1\n",
       "3    1458.780      2           7        3            2         2\n",
       "4     967.776     11          14        3            2         2\n",
       "..        ...    ...         ...      ...          ...       ...\n",
       "639  2846.400      5          12        4            2         2\n",
       "640  1359.156      7          15        3            2         2\n",
       "641   377.148      4          10        1            1         1\n",
       "642   740.064     13          14        1            1         1\n",
       "644  1376.946      6           7        3            2         1\n",
       "\n",
       "[550 rows x 6 columns]"
      ]
     },
     "execution_count": 3,
     "metadata": {},
     "output_type": "execute_result"
    }
   ],
   "source": [
    "dataframe.drop_duplicates(inplace=True)\n",
    "dataframe"
   ]
  },
  {
   "cell_type": "code",
   "execution_count": 4,
   "id": "91712c27",
   "metadata": {},
   "outputs": [],
   "source": [
    "from sklearn.cluster import KMeans\n",
    "import seaborn as sns"
   ]
  },
  {
   "cell_type": "code",
   "execution_count": 5,
   "id": "ed9cb2dd",
   "metadata": {},
   "outputs": [],
   "source": [
    "wcss = []\n",
    "for i in range(1,20):\n",
    "    kmeans = KMeans(n_clusters=i, init='k-means++',random_state=5)\n",
    "    kmeans.fit(dataframe)\n",
    "    wcss.append(kmeans.inertia_)    "
   ]
  },
  {
   "cell_type": "code",
   "execution_count": 6,
   "id": "2965d080",
   "metadata": {
    "scrolled": true
   },
   "outputs": [
    {
     "data": {
      "text/plain": [
       "<AxesSubplot:>"
      ]
     },
     "execution_count": 6,
     "metadata": {},
     "output_type": "execute_result"
    },
    {
     "data": {
      "image/png": "[encoded data removed]",
      "text/plain": [
       "<Figure size 432x288 with 1 Axes>"
      ]
     },
     "metadata": {
      "needs_background": "light"
     },
     "output_type": "display_data"
    }
   ],
   "source": [
    "sns.lineplot(x= range(1,20),y = wcss)"
   ]
  },
  {
   "cell_type": "code",
   "execution_count": 7,
   "id": "54266131",
   "metadata": {},
   "outputs": [
    {
     "name": "stdout",
     "output_type": "stream",
     "text": [
      "[0 2 0 0 3 0 0 3 0 0 3 3 0 3 2 4 3 3 4 0 2 3 0 4 2 4 3 3 2 0 0 3 3 3 3 4 3\n",
      " 4 3 0 0 2 0 0 2 2 0 3 3 1 2 3 0 3 0 3 3 0 0 3 3 0 3 3 0 3 0 2 3 3 2 2 0 0\n",
      " 3 0 3 3 3 0 0 4 2 2 2 2 0 2 2 2 2 2 2 2 2 4 4 4 2 4 3 2 2 3 2 2 0 0 4 3 3\n",
      " 3 3 0 2 2 4 0 2 0 3 0 0 4 0 0 2 4 0 4 0 0 0 0 3 2 1 0 2 2 2 2 3 3 0 3 2 0\n",
      " 0 3 3 1 0 2 2 2 0 0 2 2 4 2 0 0 0 2 3 4 0 0 0 0 0 2 3 3 2 2 2 2 3 3 0 0 0\n",
      " 0 3 0 2 3 3 0 0 0 3 2 0 2 0 2 3 2 0 4 3 2 3 3 2 2 0 0 2 3 0 3 2 3 0 4 2 2\n",
      " 0 4 3 2 0 4 2 2 3 3 4 0 3 3 0 0 3 3 0 0 0 2 3 0 0 0 2 0 3 3 2 0 0 2 0 4 2\n",
      " 3 2 0 3 2 0 2 0 4 4 4 4 2 2 2 0 0 0 0 0 2 0 0 4 2 2 2 3 2 3 2 0 4 3 2 4 2\n",
      " 0 0 3 0 3 3 2 0 0 3 3 0 3 3 0 3 4 2 3 2 2 2 2 0 2 0 3 3 3 3 3 3 3 0 0 0 2\n",
      " 2 2 2 0 0 2 3 0 0 0 0 0 0 2 0 0 0 2 0 3 3 0 0 3 3 3 3 0 3 2 3 3 3 2 2 2 4\n",
      " 3 0 0 2 3 4 4 3 3 0 0 3 2 0 4 2 2 0 2 0 3 3 0 3 0 0 0 0 0 2 3 4 2 0 0 0 0\n",
      " 0 3 2 2 2 3 0 0 3 3 0 0 0 4 0 3 2 3 2 0 0 4 0 2 3 0 2 2 3 3 3 3 2 0 3 3 0\n",
      " 3 3 2 0 0 0 3 4 3 3 2 2 2 2 0 3 0 2 0 3 0 0 0 0 0 0 2 0 2 2 2 3 0 3 3 0 0\n",
      " 0 3 2 2 2 3 3 0 3 1 0 3 3 3 0 1 0 0 0 0 4 3 3 3 2 3 0 0 3 3 0 2 3 0 0 2 3\n",
      " 2 3 3 0 3 3 0 0 3 2 0 2 3 3 1 4 4 2 0 0 0 0 0 3 2 0 2 4 0 3 3 0]\n"
     ]
    }
   ],
   "source": [
    "#K value found at 5 using Elbow method\n",
    "kmeans = KMeans(n_clusters=5, init='k-means++',random_state=5)\n",
    "kmeans.fit(dataframe)\n",
    "print(kmeans.labels_)"
   ]
  },
  {
   "cell_type": "code",
   "execution_count": 8,
   "id": "5dd051e7",
   "metadata": {},
   "outputs": [
    {
     "name": "stdout",
     "output_type": "stream",
     "text": [
      "cluster centers [[1.35245330e+03 5.13636364e+00 9.36868687e+00 2.94949495e+00\n",
      "  1.90909091e+00 1.86868687e+00]\n",
      " [4.92190000e+03 6.16666667e+00 1.90000000e+01 4.50000000e+00\n",
      "  2.50000000e+00 3.83333333e+00]\n",
      " [2.00012591e+03 6.15602837e+00 1.21843972e+01 3.48936170e+00\n",
      "  1.97872340e+00 2.12056738e+00]\n",
      " [7.37036385e+02 6.18633540e+00 1.00372671e+01 1.81366460e+00\n",
      "  1.42236025e+00 1.14285714e+00]\n",
      " [3.06368059e+03 8.27272727e+00 1.45681818e+01 3.59090909e+00\n",
      "  2.06818182e+00 2.61363636e+00]]\n"
     ]
    }
   ],
   "source": [
    "print('cluster centers',kmeans.cluster_centers_)"
   ]
  },
  {
   "cell_type": "code",
   "execution_count": null,
   "id": "4b4b1b69",
   "metadata": {},
   "outputs": [],
   "source": []
  }
 ],
 "metadata": {
  "kernelspec": {
   "display_name": "Python 3 (ipykernel)",
   "language": "python",
   "name": "python3"
  },
  "language_info": {
   "codemirror_mode": {
    "name": "ipython",
    "version": 3
   },
   "file_extension": ".py",
   "mimetype": "text/x-python",
   "name": "python",
   "nbconvert_exporter": "python",
   "pygments_lexer": "ipython3",
   "version": "3.10.0"
  }
 },
 "nbformat": 4,
 "nbformat_minor": 5
}
